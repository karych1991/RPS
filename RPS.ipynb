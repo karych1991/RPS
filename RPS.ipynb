{
  "nbformat": 4,
  "nbformat_minor": 0,
  "metadata": {
    "colab": {
      "provenance": [],
      "collapsed_sections": []
    },
    "kernelspec": {
      "name": "python3",
      "display_name": "Python 3"
    },
    "language_info": {
      "name": "python"
    }
  },
  "cells": [
    {
      "cell_type": "code",
      "execution_count": null,
      "metadata": {
        "id": "oA18RQro82un"
      },
      "outputs": [],
      "source": [
        "!pip install -q -U kaggle_environments\n",
        "!pip install -q -U pydash"
      ]
    },
    {
      "cell_type": "code",
      "source": [
        "import numpy as np\n",
        "import pandas as pd\n",
        "import random\n",
        "\n",
        "import matplotlib.pyplot as plt\n",
        "import seaborn as sns\n",
        "\n",
        "from kaggle_environments import make, evaluate\n",
        "\n",
        "from random import randrange"
      ],
      "metadata": {
        "id": "SRm8DNjjBQGf"
      },
      "execution_count": null,
      "outputs": []
    },
    {
      "cell_type": "markdown",
      "source": [
        "Создадим агентов, у которых будет заложена разная логика игры"
      ],
      "metadata": {
        "id": "g01-k7HoBYPG"
      }
    },
    {
      "cell_type": "markdown",
      "source": [
        "**0** - у нас будет означать камень\n",
        "\n",
        "\n",
        "**1** - бумагу\n",
        "\n",
        "\n",
        "**2** - ножницы"
      ],
      "metadata": {
        "id": "2AXfrjbIGjih"
      }
    },
    {
      "cell_type": "markdown",
      "source": [
        "Создадим самых простых агентов, которые будут показывать одно и то же"
      ],
      "metadata": {
        "id": "cz1k29afLF_0"
      }
    },
    {
      "cell_type": "code",
      "source": [
        "%%writefile only_rock.py\n",
        "\n",
        "#Агент, который показывает все время камень\n",
        "\n",
        "def only_rock(observation, configuration):\n",
        "    return 0"
      ],
      "metadata": {
        "colab": {
          "base_uri": "https://localhost:8080/"
        },
        "id": "lmKusAEeBQMZ",
        "outputId": "538f3374-7c81-471c-fbfa-b9b9e4506ee2"
      },
      "execution_count": null,
      "outputs": [
        {
          "output_type": "stream",
          "name": "stdout",
          "text": [
            "Overwriting only_rock.py\n"
          ]
        }
      ]
    },
    {
      "cell_type": "code",
      "source": [
        "%%writefile only_paper.py\n",
        "\n",
        "#Агент, который показывает все время бумагу\n",
        "\n",
        "def only_paper(observation, configuration):\n",
        "    return 1"
      ],
      "metadata": {
        "colab": {
          "base_uri": "https://localhost:8080/"
        },
        "id": "6PvHQLLuGI8h",
        "outputId": "4221e360-8e9f-49cf-c9ec-90fe670503ce"
      },
      "execution_count": null,
      "outputs": [
        {
          "output_type": "stream",
          "name": "stdout",
          "text": [
            "Overwriting only_paper.py\n"
          ]
        }
      ]
    },
    {
      "cell_type": "code",
      "source": [
        "%%writefile only_scissors.py\n",
        "\n",
        "# Агент, который показывает все время ножницы\n",
        "\n",
        "def only_scissors(observation, configuration):\n",
        "    return 2"
      ],
      "metadata": {
        "colab": {
          "base_uri": "https://localhost:8080/"
        },
        "id": "QAcKwzPmGOFr",
        "outputId": "edac24f5-4464-4320-93a8-c62c494a4e04"
      },
      "execution_count": null,
      "outputs": [
        {
          "output_type": "stream",
          "name": "stdout",
          "text": [
            "Overwriting only_scissors.py\n"
          ]
        }
      ]
    },
    {
      "cell_type": "markdown",
      "source": [
        "Попробуем теперь использовать информацию о прошлых действиях противника. Опишем агента, который производит то же самое действие, что и оппонент на прошлом ходу"
      ],
      "metadata": {
        "id": "J2pSYUo9LB1C"
      }
    },
    {
      "cell_type": "code",
      "source": [
        "%%writefile copy_opponent.py\n",
        "import random\n",
        "\n",
        "def copy_opponent(observation, configuration):\n",
        "    #in case we have information about opponent last move\n",
        "    if observation.step > 0:\n",
        "        return observation.lastOpponentAction\n",
        "    #initial step\n",
        "    else:\n",
        "        return random.randrange(0, configuration.signs)"
      ],
      "metadata": {
        "colab": {
          "base_uri": "https://localhost:8080/"
        },
        "id": "o-xDYzZjKToB",
        "outputId": "7e743cb6-f9f6-40d3-fe60-b8f00870588b"
      },
      "execution_count": null,
      "outputs": [
        {
          "output_type": "stream",
          "name": "stdout",
          "text": [
            "Overwriting copy_opponent.py\n"
          ]
        }
      ]
    },
    {
      "cell_type": "markdown",
      "source": [
        "Теперь создадим бота, который будет выдавать рандомные комбинации\n"
      ],
      "metadata": {
        "id": "LyJWWBALVtsc"
      }
    },
    {
      "cell_type": "code",
      "source": [
        " %%writefile random_agent.py\n",
        "\n",
        "\n",
        "import random\n",
        "\n",
        "def random_agent(observation, configuration):\n",
        "    return random.randint(0, 2)"
      ],
      "metadata": {
        "colab": {
          "base_uri": "https://localhost:8080/"
        },
        "id": "XF5iuMMPePKk",
        "outputId": "f2b36015-59f2-4989-9e0d-49eb7cd91352"
      },
      "execution_count": null,
      "outputs": [
        {
          "output_type": "stream",
          "name": "stdout",
          "text": [
            "Overwriting random_agent.py\n"
          ]
        }
      ]
    },
    {
      "cell_type": "markdown",
      "source": [
        "Добавим пару агентов из сети\n",
        "\n"
      ],
      "metadata": {
        "id": "wIGB16vNLfDB"
      }
    },
    {
      "cell_type": "code",
      "source": [
        " %%writefile rps.py\n",
        "\n",
        " \n",
        "action_histogram = {}\n",
        "\n",
        "\n",
        "def statistical(observation, configuration):\n",
        "    global action_histogram\n",
        "    if observation.step == 0:\n",
        "        action_histogram = {}\n",
        "        return\n",
        "    action = observation.lastOpponentAction\n",
        "    if action not in action_histogram:\n",
        "        action_histogram[action] = 0\n",
        "    action_histogram[action] += 1\n",
        "    mode_action = None\n",
        "    mode_action_count = None\n",
        "    for k, v in action_histogram.items():\n",
        "        if mode_action_count is None or v > mode_action_count:\n",
        "            mode_action = k\n",
        "            mode_action_count = v\n",
        "            continue\n",
        "\n",
        "    return (mode_action + 1) % configuration.signs"
      ],
      "metadata": {
        "colab": {
          "base_uri": "https://localhost:8080/"
        },
        "id": "FYFzfO5qZQEF",
        "outputId": "f718f4c9-88b6-4acd-d097-1420aa714384"
      },
      "execution_count": null,
      "outputs": [
        {
          "output_type": "stream",
          "name": "stdout",
          "text": [
            "Overwriting rps.py\n"
          ]
        }
      ]
    },
    {
      "cell_type": "code",
      "source": [
        "%%writefile stats_base_agent.py\n",
        "\n",
        "import random\n",
        "import pydash\n",
        "from collections import Counter\n",
        "\n",
        "# нужна какая-то история для функционирования этого агента\n",
        "history = {\n",
        "    \"guess\":      [0,1,2],\n",
        "    \"prediction\": [0,1,2],\n",
        "    \"expected\":   [0,1,2],\n",
        "    \"action\":     [1,2,0],\n",
        "    \"opponent\":   [0,1],\n",
        "    \"rotn\":       [0,1],\n",
        "}\n",
        "\n",
        "def statistical_prediction_agent(observation, configuration):    \n",
        "    global history\n",
        "    actions          = list(range(configuration.signs))   \n",
        "    last_action      = history['action'][-1]\n",
        "    prev_opp_action  = history['opponent'][-1]\n",
        "    opponent_action  = observation.lastOpponentAction if observation.step > 0 else 2\n",
        "    rotn             = (opponent_action - prev_opp_action) % configuration.signs\n",
        "\n",
        "    history['opponent'].append(opponent_action)\n",
        "    history['rotn'].append(rotn)\n",
        "    \n",
        "    move_frequency   = Counter(history['rotn'])\n",
        "    action_frequency = Counter(zip(history['action'], history['rotn'])) \n",
        "    move_weights     = [   move_frequency.get(n, 1) \n",
        "                         + action_frequency.get((last_action,n), 1) \n",
        "                         for n in range(configuration.signs) ] \n",
        "    guess            = random.choices( population=actions, weights=move_weights, k=1 )[0]\n",
        "    \n",
        "    guess_frequency  = Counter(zip(history['guess'], history['rotn']))\n",
        "    guess_weights    = [ guess_frequency.get((guess,n), 1) \n",
        "                         for n in range(configuration.signs) ]\n",
        "    prediction       = random.choices( population=actions, weights=guess_weights, k=1 )[0]\n",
        "\n",
        "    pred_frequency   = Counter(zip(history['prediction'], history['rotn']))\n",
        "    pred_weights     = [ pred_frequency.get((prediction,n), 1) \n",
        "                         for n in range(configuration.signs) ]\n",
        "    expected         = random.choices( population=actions, weights=pred_weights, k=1 )[0]\n",
        "\n",
        "    \n",
        "    pure_random_chance = observation.step / (configuration.episodeSteps * 2)\n",
        "    if random.random() < pure_random_chance:\n",
        "        action = random.randint(0, configuration.signs-1)\n",
        "        is_pure_random_chance = True\n",
        "    else:\n",
        "        # Play the +1 counter move\n",
        "        # action = (expected + 1) % configuration.signs                  # without rotn\n",
        "        action = (opponent_action + expected + 1) % configuration.signs  # using   rotn\n",
        "        is_pure_random_chance = False\n",
        "    \n",
        "    # Persist state\n",
        "    history['guess'].append(guess)\n",
        "    history['prediction'].append(prediction)\n",
        "    history['expected'].append(expected)\n",
        "    history['action'].append(action)\n",
        "\n",
        "    # Print debug information\n",
        "    print('step                      = ', observation.step)\n",
        "    print('opponent_action           = ', opponent_action)\n",
        "    print('guess,      move_weights  = ', guess,      move_weights)\n",
        "    print('prediction, guess_weights = ', prediction, guess_weights)\n",
        "    print('expected,   pred_weights  = ', expected,   pred_weights)\n",
        "    print('action                    = ', action)\n",
        "    print('pure_random_chance        = ', f'{100*pure_random_chance:.2f}%', is_pure_random_chance)\n",
        "    print()\n",
        "    \n",
        "    return action"
      ],
      "metadata": {
        "colab": {
          "base_uri": "https://localhost:8080/"
        },
        "id": "QsvAKbRRKTxc",
        "outputId": "da44a284-e065-4fff-f7f6-c24adf557e2b"
      },
      "execution_count": null,
      "outputs": [
        {
          "output_type": "stream",
          "name": "stdout",
          "text": [
            "Overwriting stats_base_agent.py\n"
          ]
        }
      ]
    },
    {
      "cell_type": "code",
      "source": [
        "%%writefile markov_agent.py\n",
        "\n",
        "import numpy as np\n",
        "import collections\n",
        "\n",
        "def markov_agent(observation, configuration):\n",
        "    k = 2\n",
        "    global table, action_seq\n",
        "    if observation.step % 250 == 0: # refresh table every 250 steps\n",
        "        action_seq, table = [], collections.defaultdict(lambda: [1, 1, 1])    \n",
        "    if len(action_seq) <= 2 * k + 1:\n",
        "        action = int(np.random.randint(3))\n",
        "        if observation.step > 0:\n",
        "            action_seq.extend([observation.lastOpponentAction, action])\n",
        "        else:\n",
        "            action_seq.append(action)\n",
        "        return action\n",
        "    # update table\n",
        "    key = ''.join([str(a) for a in action_seq[:-1]])\n",
        "    table[key][observation.lastOpponentAction] += 1\n",
        "    # update action seq\n",
        "    action_seq[:-2] = action_seq[2:]\n",
        "    action_seq[-2] = observation.lastOpponentAction\n",
        "    # predict opponent next move\n",
        "    key = ''.join([str(a) for a in action_seq[:-1]])\n",
        "    if observation.step < 500:\n",
        "        next_opponent_action_pred = np.argmax(table[key])\n",
        "    else:\n",
        "        scores = np.array(table[key])\n",
        "        next_opponent_action_pred = np.random.choice(3, p=scores/scores.sum()) # add stochasticity for second part of the game\n",
        "    # make an action\n",
        "    action = (next_opponent_action_pred + 1) % 3\n",
        "    # if high probability to lose -> let's surprise our opponent with sudden change of our strategy\n",
        "    if observation.step > 900:\n",
        "        action = next_opponent_action_pred\n",
        "    action_seq[-1] = action\n",
        "    return int(action)"
      ],
      "metadata": {
        "colab": {
          "base_uri": "https://localhost:8080/"
        },
        "id": "ODD9rsgNKT0d",
        "outputId": "b2e0d439-e4c4-4889-b1b0-84e51f1a4e1c"
      },
      "execution_count": null,
      "outputs": [
        {
          "output_type": "stream",
          "name": "stdout",
          "text": [
            "Overwriting markov_agent.py\n"
          ]
        }
      ]
    },
    {
      "cell_type": "markdown",
      "source": [
        "Составим список всех агентов и добавим его в отдельную переменную"
      ],
      "metadata": {
        "id": "6e9PuIYNYMLI"
      }
    },
    {
      "cell_type": "code",
      "source": [
        "name_list = ['only_rock.py', 'only_paper.py', 'only_scissors.py', 'copy_opponent.py', 'rps.py', 'random_agent.py', 'stats_base_agent.py', 'markov_agent.py']"
      ],
      "metadata": {
        "id": "At5iwufVYR42"
      },
      "execution_count": null,
      "outputs": []
    },
    {
      "cell_type": "code",
      "source": [
        "n_agents = len(name_list)\n",
        "\n",
        "scores = np.zeros((n_agents, n_agents), dtype=np.int)"
      ],
      "metadata": {
        "colab": {
          "base_uri": "https://localhost:8080/"
        },
        "id": "FNlj_XcT6VDB",
        "outputId": "e6b33cdc-e604-4d70-e3e6-b65a29287db6"
      },
      "execution_count": null,
      "outputs": [
        {
          "output_type": "stream",
          "name": "stderr",
          "text": [
            "/usr/local/lib/python3.7/dist-packages/ipykernel_launcher.py:3: DeprecationWarning: `np.int` is a deprecated alias for the builtin `int`. To silence this warning, use `int` by itself. Doing this will not modify any behavior and is safe. When replacing `np.int`, you may wish to use e.g. `np.int64` or `np.int32` to specify the precision. If you wish to review your current use, check the release note link for additional information.\n",
            "Deprecated in NumPy 1.20; for more details and guidance: https://numpy.org/devdocs/release/1.20.0-notes.html#deprecations\n",
            "  This is separate from the ipykernel package so we can avoid doing imports until\n"
          ]
        }
      ]
    },
    {
      "cell_type": "markdown",
      "source": [
        "# **Проводим турнир**"
      ],
      "metadata": {
        "id": "BsaqL3TBuuE-"
      }
    },
    {
      "cell_type": "code",
      "source": [
        "for ind_agent_1 in range(len(name_list)):\n",
        "     \n",
        "    for ind_agent_2 in range(ind_agent_1 + 1, len(name_list)):\n",
        "         \n",
        "        #print(\"LOG:\",name_list[ind_agent_1],\" vs \",name_list[ind_agent_2])\n",
        "        \n",
        "        current_score = evaluate(\n",
        "            \"rps\", \n",
        "            [name_list[ind_agent_1], name_list[ind_agent_2]], \n",
        "            configuration={\"episodeSteps\": 50}\n",
        "        )\n",
        "        \n",
        "        scores[ind_agent_1, ind_agent_2] = current_score[0][0]\n",
        "        scores[ind_agent_2, ind_agent_1] = current_score[0][1]\n",
        "      \n",
        "print(scores)      \n",
        "    "
      ],
      "metadata": {
        "colab": {
          "base_uri": "https://localhost:8080/"
        },
        "id": "ASEQ225m5Dly",
        "outputId": "e84ff07f-4990-4ffc-c2b2-735a3289a4dd"
      },
      "execution_count": null,
      "outputs": [
        {
          "output_type": "stream",
          "name": "stdout",
          "text": [
            "[[  0 -49  49   0 -48   0   0 -45]\n",
            " [ 49   0 -49   0 -47   0 -23 -42]\n",
            " [-49  49   0   0 -49   0 -24 -24]\n",
            " [  0   0   0   0   0   0   0 -26]\n",
            " [ 48  47  49   0   0   0   0   0]\n",
            " [  0   0   0   0   0   0   0   0]\n",
            " [  0  23  24   0   0   0   0   0]\n",
            " [ 45  42  24  26   0   0   0   0]]\n"
          ]
        }
      ]
    },
    {
      "cell_type": "markdown",
      "source": [
        "Визуализируем данные"
      ],
      "metadata": {
        "id": "5Az9rSmLAKao"
      }
    },
    {
      "cell_type": "code",
      "source": [
        "\n",
        "df_scores = pd.DataFrame(\n",
        "    scores, \n",
        "    index=name_list, \n",
        "    columns=name_list,\n",
        ")\n",
        "\n",
        "\n",
        "plt.figure(figsize=(9, 9))\n",
        "sns.heatmap(\n",
        "    df_scores, annot=True, cbar=False, \n",
        "    cmap='coolwarm', linewidths=1, \n",
        "    linecolor='black', fmt=\"d\",\n",
        ")\n",
        "plt.xticks(rotation=90, fontsize=15)\n",
        "plt.yticks(fontsize=15);"
      ],
      "metadata": {
        "id": "LaQJyjLm8UCs",
        "colab": {
          "base_uri": "https://localhost:8080/",
          "height": 682
        },
        "outputId": "28c5b840-60d1-4cf3-eb27-306de77f7993"
      },
      "execution_count": null,
      "outputs": [
        {
          "output_type": "display_data",
          "data": {
            "text/plain": [
              "<Figure size 648x648 with 1 Axes>"
            ],
            "image/png": "[encoded data removed]"
          },
          "metadata": {
            "needs_background": "light"
          }
        }
      ]
    },
    {
      "cell_type": "code",
      "source": [
        "df_scores['mean'] = df_scores.mean(axis=0)\n",
        "\n",
        "df_scores['mean']"
      ],
      "metadata": {
        "id": "DU_XaY8Q8c50",
        "colab": {
          "base_uri": "https://localhost:8080/"
        },
        "outputId": "b4c40971-e2de-45fe-d62e-e2193f83813b"
      },
      "execution_count": null,
      "outputs": [
        {
          "output_type": "execute_result",
          "data": {
            "text/plain": [
              "only_rock.py           11.625\n",
              "only_paper.py          14.000\n",
              "only_scissors.py       12.125\n",
              "copy_opponent.py        3.250\n",
              "rps.py                -18.000\n",
              "random_agent.py         0.000\n",
              "stats_base_agent.py    -5.875\n",
              "markov_agent.py       -17.125\n",
              "Name: mean, dtype: float64"
            ]
          },
          "metadata": {},
          "execution_count": 176
        }
      ]
    },
    {
      "cell_type": "markdown",
      "source": [
        "# **Вывод**"
      ],
      "metadata": {
        "id": "qRqLO85cgTLb"
      }
    },
    {
      "cell_type": "markdown",
      "source": [
        "Из представленных агентов лучше всего себя показала тактика однозначного выбора, когда показывается только камень или только бумага или только ножницы.\n"
      ],
      "metadata": {
        "id": "LqOFBXCugW21"
      }
    }
  ]
}